{
 "cells": [
  {
   "cell_type": "code",
   "execution_count": null,
   "id": "ed783ae9",
   "metadata": {},
   "outputs": [],
   "source": []
  },
  {
   "cell_type": "code",
   "execution_count": 39,
   "id": "ebbf5790",
   "metadata": {},
   "outputs": [],
   "source": [
    "import pandas as pd\n",
    "import numpy as np\n",
    "import matplotlib.pyplot as plt\n",
    "from scipy.stats import pearsonr "
   ]
  },
  {
   "cell_type": "code",
   "execution_count": 40,
   "id": "984d8e4b",
   "metadata": {},
   "outputs": [
    {
     "name": "stdout",
     "output_type": "stream",
     "text": [
      "      60  70  80  90\n",
      "160  2.0   5   4   1\n",
      "170  2.0   8   9   4\n",
      "180  0.0   4   6   5\n"
     ]
    }
   ],
   "source": [
    "eff = [[2, 5, 4, 1], [2, 8, 9, 4], [np.nan, 4, 6, 5]]\n",
    "Y = [60, 70, 80, 90]\n",
    "X = [160, 170, 180]\n",
    "df = pd.DataFrame(data=eff, index=X, columns=Y)\n",
    "\n",
    "df.fillna(0, inplace=True)\n",
    "print(df)"
   ]
  },
  {
   "cell_type": "code",
   "execution_count": 41,
   "id": "e38f77d0",
   "metadata": {},
   "outputs": [
    {
     "name": "stdout",
     "output_type": "stream",
     "text": [
      "Index([160.0, 170.0, 180.0], dtype='float64')\n",
      "DataFrame:\n",
      "       60.0  70.0  80.0  90.0\n",
      "160.0   2.0     5     4     1\n",
      "170.0   2.0     8     9     4\n",
      "180.0   0.0     4     6     5\n"
     ]
    }
   ],
   "source": [
    "\n",
    "df = pd.DataFrame(data=eff, index=X, columns=Y)\n",
    "df.index = df.index.astype(float)\n",
    "df.columns = df.columns.astype(float)\n",
    "print(df.index)\n",
    "# Fill NaN values with 0\n",
    "df.fillna(0, inplace=True)\n",
    "print(\"DataFrame:\")\n",
    "print(df) "
   ]
  },
  {
   "cell_type": "code",
   "execution_count": 42,
   "id": "65eb659b",
   "metadata": {},
   "outputs": [],
   "source": [
    "somme_eff=50\n",
    "n31= somme_eff-df.sum().sum()\n",
    "df.loc[180, 60]=n31\n",
    "#print(df.loc[:, :])\n",
    "#print(df.sum())"
   ]
  },
  {
   "cell_type": "code",
   "execution_count": 43,
   "id": "0db677a2",
   "metadata": {},
   "outputs": [
    {
     "name": "stdout",
     "output_type": "stream",
     "text": [
      "       60.0  70.0  80.0  90.0\n",
      "160.0   2.0     5     4     1\n",
      "170.0   2.0     8     9     4\n",
      "180.0   0.0     4     6     5\n"
     ]
    }
   ],
   "source": [
    "print(df)"
   ]
  },
  {
   "cell_type": "code",
   "execution_count": 44,
   "id": "806345bb",
   "metadata": {},
   "outputs": [
    {
     "name": "stdout",
     "output_type": "stream",
     "text": [
      "       60.0  70.0  80.0  90.0\n",
      "160.0   2.0     5     4     1\n",
      "170.0   2.0     8     9     4\n",
      "180.0   0.0     4     6     5\n",
      "\n",
      "La valeur manquante (n31) est : 0.0\n"
     ]
    }
   ],
   "source": [
    "\n",
    "print(df)\n",
    "print(f\"\\nLa valeur manquante (n31) est : {n31}\")"
   ]
  },
  {
   "cell_type": "code",
   "execution_count": 45,
   "id": "1950b532",
   "metadata": {},
   "outputs": [
    {
     "name": "stdout",
     "output_type": "stream",
     "text": [
      "       60.0  70.0  80.0  90.0\n",
      "160.0   2.0     5     4     1\n",
      "170.0   2.0     8     9     4\n",
      "180.0   0.0     4     6     5\n"
     ]
    }
   ],
   "source": [
    "df.loc[180, 60]=n31\n",
    "print(df)"
   ]
  },
  {
   "cell_type": "code",
   "execution_count": 46,
   "id": "162d97ba",
   "metadata": {},
   "outputs": [
    {
     "name": "stdout",
     "output_type": "stream",
     "text": [
      "60.0     4.0\n",
      "70.0    17.0\n",
      "80.0    19.0\n",
      "90.0    10.0\n",
      "dtype: float64\n"
     ]
    }
   ],
   "source": [
    "Ymarginal =df.sum()\n",
    "print(Ymarginal)"
   ]
  },
  {
   "cell_type": "code",
   "execution_count": 47,
   "id": "fdb5975c",
   "metadata": {},
   "outputs": [
    {
     "name": "stdout",
     "output_type": "stream",
     "text": [
      "160.0    12.0\n",
      "170.0    23.0\n",
      "180.0    15.0\n",
      "dtype: float64\n"
     ]
    }
   ],
   "source": [
    "Xmarginal = np.sum(df.transpose())\n",
    "print(Xmarginal)"
   ]
  },
  {
   "cell_type": "code",
   "execution_count": 48,
   "id": "96db361f",
   "metadata": {},
   "outputs": [
    {
     "data": {
      "text/html": [
       "<div>\n",
       "<style scoped>\n",
       "    .dataframe tbody tr th:only-of-type {\n",
       "        vertical-align: middle;\n",
       "    }\n",
       "\n",
       "    .dataframe tbody tr th {\n",
       "        vertical-align: top;\n",
       "    }\n",
       "\n",
       "    .dataframe thead th {\n",
       "        text-align: right;\n",
       "    }\n",
       "</style>\n",
       "<table border=\"1\" class=\"dataframe\">\n",
       "  <thead>\n",
       "    <tr style=\"text-align: right;\">\n",
       "      <th></th>\n",
       "      <th>60.0</th>\n",
       "      <th>70.0</th>\n",
       "      <th>80.0</th>\n",
       "      <th>90.0</th>\n",
       "    </tr>\n",
       "  </thead>\n",
       "  <tbody>\n",
       "    <tr>\n",
       "      <th>60.0</th>\n",
       "      <td>1.000000</td>\n",
       "      <td>0.693375</td>\n",
       "      <td>0.114708</td>\n",
       "      <td>-0.693375</td>\n",
       "    </tr>\n",
       "    <tr>\n",
       "      <th>70.0</th>\n",
       "      <td>0.693375</td>\n",
       "      <td>1.000000</td>\n",
       "      <td>0.795356</td>\n",
       "      <td>0.038462</td>\n",
       "    </tr>\n",
       "    <tr>\n",
       "      <th>80.0</th>\n",
       "      <td>0.114708</td>\n",
       "      <td>0.795356</td>\n",
       "      <td>1.000000</td>\n",
       "      <td>0.636285</td>\n",
       "    </tr>\n",
       "    <tr>\n",
       "      <th>90.0</th>\n",
       "      <td>-0.693375</td>\n",
       "      <td>0.038462</td>\n",
       "      <td>0.636285</td>\n",
       "      <td>1.000000</td>\n",
       "    </tr>\n",
       "  </tbody>\n",
       "</table>\n",
       "</div>"
      ],
      "text/plain": [
       "          60.0      70.0      80.0      90.0\n",
       "60.0  1.000000  0.693375  0.114708 -0.693375\n",
       "70.0  0.693375  1.000000  0.795356  0.038462\n",
       "80.0  0.114708  0.795356  1.000000  0.636285\n",
       "90.0 -0.693375  0.038462  0.636285  1.000000"
      ]
     },
     "execution_count": 48,
     "metadata": {},
     "output_type": "execute_result"
    }
   ],
   "source": [
    "df.corr()"
   ]
  },
  {
   "cell_type": "code",
   "execution_count": 49,
   "id": "53b1d699",
   "metadata": {},
   "outputs": [
    {
     "name": "stdout",
     "output_type": "stream",
     "text": [
      "160.0    12.0\n",
      "170.0    23.0\n",
      "180.0    15.0\n",
      "dtype: float64\n"
     ]
    }
   ],
   "source": [
    "Xmarginal = np.sum(df.transpose())\n",
    "print(Xmarginal)"
   ]
  },
  {
   "cell_type": "code",
   "execution_count": 50,
   "id": "56259987",
   "metadata": {},
   "outputs": [
    {
     "name": "stdout",
     "output_type": "stream",
     "text": [
      "60.0     4.0\n",
      "70.0    17.0\n",
      "80.0    19.0\n",
      "90.0    10.0\n",
      "dtype: float64\n"
     ]
    }
   ],
   "source": [
    "Ymarginal = np.sum(df)\n",
    "print(Ymarginal)"
   ]
  },
  {
   "cell_type": "code",
   "execution_count": 51,
   "id": "91409aed",
   "metadata": {},
   "outputs": [
    {
     "ename": "ValueError",
     "evalue": "operands could not be broadcast together with shapes (3,) (4,) ",
     "output_type": "error",
     "traceback": [
      "\u001b[1;31m---------------------------------------------------------------------------\u001b[0m",
      "\u001b[1;31mValueError\u001b[0m                                Traceback (most recent call last)",
      "Cell \u001b[1;32mIn[51], line 1\u001b[0m\n\u001b[1;32m----> 1\u001b[0m centre_de_gravite_X \u001b[38;5;241m=\u001b[39m (Xmarginal \u001b[38;5;241m*\u001b[39m df\u001b[38;5;241m.\u001b[39mcolumns)\u001b[38;5;241m.\u001b[39msum() \u001b[38;5;241m/\u001b[39m Xmarginal\u001b[38;5;241m.\u001b[39msum()\n\u001b[0;32m      2\u001b[0m centre_de_gravite_Y \u001b[38;5;241m=\u001b[39m (Ymarginal \u001b[38;5;241m*\u001b[39m df\u001b[38;5;241m.\u001b[39mindex)\u001b[38;5;241m.\u001b[39msum() \u001b[38;5;241m/\u001b[39m Ymarginal\u001b[38;5;241m.\u001b[39msum()\n\u001b[0;32m      3\u001b[0m \u001b[38;5;28mprint\u001b[39m(centre_de_gravite_X)\n",
      "File \u001b[1;32m~\\anaconda3\\Lib\\site-packages\\pandas\\core\\ops\\common.py:81\u001b[0m, in \u001b[0;36m_unpack_zerodim_and_defer.<locals>.new_method\u001b[1;34m(self, other)\u001b[0m\n\u001b[0;32m     77\u001b[0m             \u001b[38;5;28;01mreturn\u001b[39;00m \u001b[38;5;28mNotImplemented\u001b[39m\n\u001b[0;32m     79\u001b[0m other \u001b[38;5;241m=\u001b[39m item_from_zerodim(other)\n\u001b[1;32m---> 81\u001b[0m \u001b[38;5;28;01mreturn\u001b[39;00m method(\u001b[38;5;28mself\u001b[39m, other)\n",
      "File \u001b[1;32m~\\anaconda3\\Lib\\site-packages\\pandas\\core\\arraylike.py:202\u001b[0m, in \u001b[0;36mOpsMixin.__mul__\u001b[1;34m(self, other)\u001b[0m\n\u001b[0;32m    200\u001b[0m \u001b[38;5;129m@unpack_zerodim_and_defer\u001b[39m(\u001b[38;5;124m\"\u001b[39m\u001b[38;5;124m__mul__\u001b[39m\u001b[38;5;124m\"\u001b[39m)\n\u001b[0;32m    201\u001b[0m \u001b[38;5;28;01mdef\u001b[39;00m \u001b[38;5;21m__mul__\u001b[39m(\u001b[38;5;28mself\u001b[39m, other):\n\u001b[1;32m--> 202\u001b[0m     \u001b[38;5;28;01mreturn\u001b[39;00m \u001b[38;5;28mself\u001b[39m\u001b[38;5;241m.\u001b[39m_arith_method(other, operator\u001b[38;5;241m.\u001b[39mmul)\n",
      "File \u001b[1;32m~\\anaconda3\\Lib\\site-packages\\pandas\\core\\series.py:6112\u001b[0m, in \u001b[0;36mSeries._arith_method\u001b[1;34m(self, other, op)\u001b[0m\n\u001b[0;32m   6110\u001b[0m \u001b[38;5;28;01mdef\u001b[39;00m \u001b[38;5;21m_arith_method\u001b[39m(\u001b[38;5;28mself\u001b[39m, other, op):\n\u001b[0;32m   6111\u001b[0m     \u001b[38;5;28mself\u001b[39m, other \u001b[38;5;241m=\u001b[39m ops\u001b[38;5;241m.\u001b[39malign_method_SERIES(\u001b[38;5;28mself\u001b[39m, other)\n\u001b[1;32m-> 6112\u001b[0m     \u001b[38;5;28;01mreturn\u001b[39;00m base\u001b[38;5;241m.\u001b[39mIndexOpsMixin\u001b[38;5;241m.\u001b[39m_arith_method(\u001b[38;5;28mself\u001b[39m, other, op)\n",
      "File \u001b[1;32m~\\anaconda3\\Lib\\site-packages\\pandas\\core\\base.py:1348\u001b[0m, in \u001b[0;36mIndexOpsMixin._arith_method\u001b[1;34m(self, other, op)\u001b[0m\n\u001b[0;32m   1345\u001b[0m rvalues \u001b[38;5;241m=\u001b[39m ensure_wrapped_if_datetimelike(rvalues)\n\u001b[0;32m   1347\u001b[0m \u001b[38;5;28;01mwith\u001b[39;00m np\u001b[38;5;241m.\u001b[39merrstate(\u001b[38;5;28mall\u001b[39m\u001b[38;5;241m=\u001b[39m\u001b[38;5;124m\"\u001b[39m\u001b[38;5;124mignore\u001b[39m\u001b[38;5;124m\"\u001b[39m):\n\u001b[1;32m-> 1348\u001b[0m     result \u001b[38;5;241m=\u001b[39m ops\u001b[38;5;241m.\u001b[39marithmetic_op(lvalues, rvalues, op)\n\u001b[0;32m   1350\u001b[0m \u001b[38;5;28;01mreturn\u001b[39;00m \u001b[38;5;28mself\u001b[39m\u001b[38;5;241m.\u001b[39m_construct_result(result, name\u001b[38;5;241m=\u001b[39mres_name)\n",
      "File \u001b[1;32m~\\anaconda3\\Lib\\site-packages\\pandas\\core\\ops\\array_ops.py:232\u001b[0m, in \u001b[0;36marithmetic_op\u001b[1;34m(left, right, op)\u001b[0m\n\u001b[0;32m    228\u001b[0m     _bool_arith_check(op, left, right)\n\u001b[0;32m    230\u001b[0m     \u001b[38;5;66;03m# error: Argument 1 to \"_na_arithmetic_op\" has incompatible type\u001b[39;00m\n\u001b[0;32m    231\u001b[0m     \u001b[38;5;66;03m# \"Union[ExtensionArray, ndarray[Any, Any]]\"; expected \"ndarray[Any, Any]\"\u001b[39;00m\n\u001b[1;32m--> 232\u001b[0m     res_values \u001b[38;5;241m=\u001b[39m _na_arithmetic_op(left, right, op)  \u001b[38;5;66;03m# type: ignore[arg-type]\u001b[39;00m\n\u001b[0;32m    234\u001b[0m \u001b[38;5;28;01mreturn\u001b[39;00m res_values\n",
      "File \u001b[1;32m~\\anaconda3\\Lib\\site-packages\\pandas\\core\\ops\\array_ops.py:171\u001b[0m, in \u001b[0;36m_na_arithmetic_op\u001b[1;34m(left, right, op, is_cmp)\u001b[0m\n\u001b[0;32m    168\u001b[0m     func \u001b[38;5;241m=\u001b[39m partial(expressions\u001b[38;5;241m.\u001b[39mevaluate, op)\n\u001b[0;32m    170\u001b[0m \u001b[38;5;28;01mtry\u001b[39;00m:\n\u001b[1;32m--> 171\u001b[0m     result \u001b[38;5;241m=\u001b[39m func(left, right)\n\u001b[0;32m    172\u001b[0m \u001b[38;5;28;01mexcept\u001b[39;00m \u001b[38;5;167;01mTypeError\u001b[39;00m:\n\u001b[0;32m    173\u001b[0m     \u001b[38;5;28;01mif\u001b[39;00m \u001b[38;5;129;01mnot\u001b[39;00m is_cmp \u001b[38;5;129;01mand\u001b[39;00m (is_object_dtype(left\u001b[38;5;241m.\u001b[39mdtype) \u001b[38;5;129;01mor\u001b[39;00m is_object_dtype(right)):\n\u001b[0;32m    174\u001b[0m         \u001b[38;5;66;03m# For object dtype, fallback to a masked operation (only operating\u001b[39;00m\n\u001b[0;32m    175\u001b[0m         \u001b[38;5;66;03m#  on the non-missing values)\u001b[39;00m\n\u001b[0;32m    176\u001b[0m         \u001b[38;5;66;03m# Don't do this for comparisons, as that will handle complex numbers\u001b[39;00m\n\u001b[0;32m    177\u001b[0m         \u001b[38;5;66;03m#  incorrectly, see GH#32047\u001b[39;00m\n",
      "File \u001b[1;32m~\\anaconda3\\Lib\\site-packages\\pandas\\core\\computation\\expressions.py:239\u001b[0m, in \u001b[0;36mevaluate\u001b[1;34m(op, a, b, use_numexpr)\u001b[0m\n\u001b[0;32m    236\u001b[0m \u001b[38;5;28;01mif\u001b[39;00m op_str \u001b[38;5;129;01mis\u001b[39;00m \u001b[38;5;129;01mnot\u001b[39;00m \u001b[38;5;28;01mNone\u001b[39;00m:\n\u001b[0;32m    237\u001b[0m     \u001b[38;5;28;01mif\u001b[39;00m use_numexpr:\n\u001b[0;32m    238\u001b[0m         \u001b[38;5;66;03m# error: \"None\" not callable\u001b[39;00m\n\u001b[1;32m--> 239\u001b[0m         \u001b[38;5;28;01mreturn\u001b[39;00m _evaluate(op, op_str, a, b)  \u001b[38;5;66;03m# type: ignore[misc]\u001b[39;00m\n\u001b[0;32m    240\u001b[0m \u001b[38;5;28;01mreturn\u001b[39;00m _evaluate_standard(op, op_str, a, b)\n",
      "File \u001b[1;32m~\\anaconda3\\Lib\\site-packages\\pandas\\core\\computation\\expressions.py:128\u001b[0m, in \u001b[0;36m_evaluate_numexpr\u001b[1;34m(op, op_str, a, b)\u001b[0m\n\u001b[0;32m    125\u001b[0m     _store_test_result(result \u001b[38;5;129;01mis\u001b[39;00m \u001b[38;5;129;01mnot\u001b[39;00m \u001b[38;5;28;01mNone\u001b[39;00m)\n\u001b[0;32m    127\u001b[0m \u001b[38;5;28;01mif\u001b[39;00m result \u001b[38;5;129;01mis\u001b[39;00m \u001b[38;5;28;01mNone\u001b[39;00m:\n\u001b[1;32m--> 128\u001b[0m     result \u001b[38;5;241m=\u001b[39m _evaluate_standard(op, op_str, a, b)\n\u001b[0;32m    130\u001b[0m \u001b[38;5;28;01mreturn\u001b[39;00m result\n",
      "File \u001b[1;32m~\\anaconda3\\Lib\\site-packages\\pandas\\core\\computation\\expressions.py:70\u001b[0m, in \u001b[0;36m_evaluate_standard\u001b[1;34m(op, op_str, a, b)\u001b[0m\n\u001b[0;32m     68\u001b[0m \u001b[38;5;28;01mif\u001b[39;00m _TEST_MODE:\n\u001b[0;32m     69\u001b[0m     _store_test_result(\u001b[38;5;28;01mFalse\u001b[39;00m)\n\u001b[1;32m---> 70\u001b[0m \u001b[38;5;28;01mreturn\u001b[39;00m op(a, b)\n",
      "\u001b[1;31mValueError\u001b[0m: operands could not be broadcast together with shapes (3,) (4,) "
     ]
    }
   ],
   "source": [
    "\n",
    "centre_de_gravite_X = (Xmarginal * df.columns).sum() / Xmarginal.sum()\n",
    "centre_de_gravite_Y = (Ymarginal * df.index).sum() / Ymarginal.sum()\n",
    "print(centre_de_gravite_X)\n",
    "print(centre_de_gravite_Y)"
   ]
  },
  {
   "cell_type": "code",
   "execution_count": 365,
   "id": "db600c59",
   "metadata": {},
   "outputs": [
    {
     "name": "stdout",
     "output_type": "stream",
     "text": [
      "16.666666666666668\n"
     ]
    }
   ],
   "source": [
    "mX = sum(Xmarginal)/len(Xmarginal)\n",
    "mY = sum(Ymarginal)/len(Ymarginal)\n",
    "print(mX)"
   ]
  },
  {
   "cell_type": "code",
   "execution_count": 52,
   "id": "e40ffaed",
   "metadata": {},
   "outputs": [
    {
     "name": "stdout",
     "output_type": "stream",
     "text": [
      "160.0    12.0\n",
      "170.0    23.0\n",
      "180.0    15.0\n",
      "dtype: float64\n",
      "19.11111111111111\n"
     ]
    }
   ],
   "source": [
    "Ymarginal = np.sum(df)\n",
    "Xmarginal = np.sum(df.transpose())\n",
    "print(Xmarginal)\n",
    "mX = sum(Xmarginal)/len(Xmarginal)\n",
    "mY = sum(Ymarginal)/len(Ymarginal)\n",
    "cov = sum((a - mX) * (b - mY) for (a,b) in zip(Xmarginal,Ymarginal)) / len(Xmarginal)\n",
    "print(cov)"
   ]
  },
  {
   "cell_type": "code",
   "execution_count": 57,
   "id": "4b5e37b5",
   "metadata": {},
   "outputs": [
    {
     "name": "stdout",
     "output_type": "stream",
     "text": [
      "12.0 4.0\n",
      "23.0 17.0\n",
      "15.0 19.0\n"
     ]
    }
   ],
   "source": [
    "for (a,b) in zip(Xmarginal,Ymarginal):\n",
    "  print(a,b)"
   ]
  },
  {
   "cell_type": "code",
   "execution_count": 58,
   "id": "575bff33",
   "metadata": {},
   "outputs": [
    {
     "name": "stdout",
     "output_type": "stream",
     "text": [
      "0.693\n"
     ]
    }
   ],
   "source": [
    "stdevX = (sum((x - mX)**2 for x in Xmarginal)/len(Xmarginal))**0.5\n",
    "stdevY = (sum((y - mY)**2 for y in Ymarginal)/len(Ymarginal))**0.5\n",
    "corr = round(cov/(stdevX*stdevY),3)\n",
    "print(corr)"
   ]
  },
  {
   "cell_type": "code",
   "execution_count": null,
   "id": "9d13d979",
   "metadata": {},
   "outputs": [],
   "source": []
  },
  {
   "cell_type": "code",
   "execution_count": 368,
   "id": "07a5b1b1",
   "metadata": {},
   "outputs": [
    {
     "name": "stdout",
     "output_type": "stream",
     "text": [
      "DataFrame with New Row:\n",
      "      60   70   80   90\n",
      "160  2.0  5.0  4.0  1.0\n",
      "170  2.0  8.0  9.0  4.0\n",
      "180  0.0  4.0  6.0  5.0\n",
      "190  3.0  6.0  7.0  2.0\n"
     ]
    }
   ],
   "source": [
    "# Assuming df is your original DataFrame\n",
    "df = pd.DataFrame(data=eff, index=X, columns=Y)\n",
    "\n",
    "# Add a new row (let's say, 'new_row')\n",
    "new_row_values = [3.0, 6, 7, 2]  # Replace with your desired values\n",
    "new_index = 190  # Replace with your desired index value\n",
    "\n",
    "# Create a copy to keep the original DataFrame unchanged\n",
    "df = df.copy()\n",
    "\n",
    "# Add the new row using loc\n",
    "df.loc[new_index] = new_row_values\n",
    "\n",
    "# Fill NaN values with 0\n",
    "df.fillna(0, inplace=True)\n",
    "\n",
    "print(\"DataFrame with New Row:\")\n",
    "print(df)\n"
   ]
  },
  {
   "cell_type": "code",
   "execution_count": null,
   "id": "4eb9c13e",
   "metadata": {},
   "outputs": [],
   "source": []
  },
  {
   "cell_type": "code",
   "execution_count": 371,
   "id": "f24f77c5",
   "metadata": {},
   "outputs": [
    {
     "name": "stdout",
     "output_type": "stream",
     "text": [
      "Slope (a): 0.29\n",
      "Intercept (b): 26.27\n"
     ]
    }
   ],
   "source": [
    "a = cov / np.var(X)\n",
    "b = np.mean(Y) - a * np.mean(X)\n",
    "\n",
    "print(f\"Slope (a): {a:.2f}\")\n",
    "print(f\"Intercept (b): {b:.2f}\")"
   ]
  },
  {
   "cell_type": "code",
   "execution_count": 372,
   "id": "02a2d38a",
   "metadata": {},
   "outputs": [
    {
     "name": "stdout",
     "output_type": "stream",
     "text": [
      "Predicted weight of a boy with a height of 175 cm: 76.43 kg\n"
     ]
    }
   ],
   "source": [
    "# Given values\n",
    "height_175 = 175\n",
    "\n",
    "# Use the linear regression equation to predict the weight\n",
    "weight_175_predicted = a * height_175 + b\n",
    "\n",
    "print(f\"Predicted weight of a boy with a height of {height_175} cm: {weight_175_predicted:.2f} kg\")\n"
   ]
  },
  {
   "cell_type": "code",
   "execution_count": null,
   "id": "ca8149f0",
   "metadata": {},
   "outputs": [],
   "source": []
  },
  {
   "cell_type": "code",
   "execution_count": null,
   "id": "25073cd5",
   "metadata": {},
   "outputs": [],
   "source": []
  }
 ],
 "metadata": {
  "kernelspec": {
   "display_name": "Python 3 (ipykernel)",
   "language": "python",
   "name": "python3"
  },
  "language_info": {
   "codemirror_mode": {
    "name": "ipython",
    "version": 3
   },
   "file_extension": ".py",
   "mimetype": "text/x-python",
   "name": "python",
   "nbconvert_exporter": "python",
   "pygments_lexer": "ipython3",
   "version": "3.11.5"
  }
 },
 "nbformat": 4,
 "nbformat_minor": 5
}
