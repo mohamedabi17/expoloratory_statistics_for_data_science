{
 "cells": [
  {
   "cell_type": "code",
   "execution_count": 2,
   "id": "ff0a9272-28a2-46a0-9d39-965cc545d460",
   "metadata": {
    "tags": []
   },
   "outputs": [
    {
     "name": "stdout",
     "output_type": "stream",
     "text": [
      "    0    1    2    3    4    5    6    7    8    9    10   11\n",
      "0  117  134  130  143  127  125   98  110  124  122  126  101\n",
      "1  106  121  123  104  124  117  109  128  134  146  112  139\n",
      "2  153  154  130  123  120  133  110  143  145  148  110  115\n",
      "3  114  104  126   90  140  105  117  134  128  147  137  109\n",
      "4  122  130   95  104  113  150  120   94  160  138  129  119\n"
     ]
    }
   ],
   "source": [
    "import pandas as pd\n",
    "import numpy as np\n",
    "\n",
    "data = np.array([\n",
    "    [117, 134, 130, 143, 127, 125, 98, 110, 124, 122, 126, 101],\n",
    "    [106, 121, 123, 104, 124, 117, 109, 128, 134, 146, 112, 139],\n",
    "    [153, 154, 130, 123, 120, 133, 110, 143, 145, 148, 110, 115],\n",
    "    [114, 104, 126, 90, 140, 105, 117, 134, 128, 147, 137, 109],\n",
    "    [122, 130, 95, 104, 113, 150, 120, 94, 160, 138, 129, 119]\n",
    "])\n",
    "\n",
    "df = pd.DataFrame(data)\n",
    "print(df)\n"
   ]
  },
  {
   "cell_type": "code",
   "execution_count": 5,
   "id": "c2da70e2-3169-4c45-b1ab-4cecac152b7b",
   "metadata": {
    "tags": []
   },
   "outputs": [
    {
     "name": "stdout",
     "output_type": "stream",
     "text": [
      "70\n"
     ]
    }
   ],
   "source": [
    "etendue = np.max(df) - np.min(df)\n",
    "print(etendue)"
   ]
  },
  {
   "cell_type": "code",
   "execution_count": 7,
   "id": "5c7accaf-0f8d-4ac1-8fa0-d4a9418514b6",
   "metadata": {
    "tags": []
   },
   "outputs": [
    {
     "data": {
      "text/html": [
       "<div>\n",
       "<style scoped>\n",
       "    .dataframe tbody tr th:only-of-type {\n",
       "        vertical-align: middle;\n",
       "    }\n",
       "\n",
       "    .dataframe tbody tr th {\n",
       "        vertical-align: top;\n",
       "    }\n",
       "\n",
       "    .dataframe thead th {\n",
       "        text-align: right;\n",
       "    }\n",
       "</style>\n",
       "<table border=\"1\" class=\"dataframe\">\n",
       "  <thead>\n",
       "    <tr style=\"text-align: right;\">\n",
       "      <th></th>\n",
       "      <th>0</th>\n",
       "      <th>1</th>\n",
       "      <th>2</th>\n",
       "      <th>3</th>\n",
       "      <th>4</th>\n",
       "      <th>5</th>\n",
       "      <th>6</th>\n",
       "      <th>7</th>\n",
       "      <th>8</th>\n",
       "      <th>9</th>\n",
       "      <th>10</th>\n",
       "      <th>11</th>\n",
       "    </tr>\n",
       "  </thead>\n",
       "  <tbody>\n",
       "    <tr>\n",
       "      <th>count</th>\n",
       "      <td>5.000000</td>\n",
       "      <td>5.000000</td>\n",
       "      <td>5.000000</td>\n",
       "      <td>5.000000</td>\n",
       "      <td>5.000000</td>\n",
       "      <td>5.000000</td>\n",
       "      <td>5.000000</td>\n",
       "      <td>5.000000</td>\n",
       "      <td>5.000000</td>\n",
       "      <td>5.000000</td>\n",
       "      <td>5.000000</td>\n",
       "      <td>5.000000</td>\n",
       "    </tr>\n",
       "    <tr>\n",
       "      <th>mean</th>\n",
       "      <td>122.400000</td>\n",
       "      <td>128.600000</td>\n",
       "      <td>120.800000</td>\n",
       "      <td>112.800000</td>\n",
       "      <td>124.800000</td>\n",
       "      <td>126.000000</td>\n",
       "      <td>110.800000</td>\n",
       "      <td>121.800000</td>\n",
       "      <td>138.200000</td>\n",
       "      <td>140.200000</td>\n",
       "      <td>122.800000</td>\n",
       "      <td>116.600000</td>\n",
       "    </tr>\n",
       "    <tr>\n",
       "      <th>std</th>\n",
       "      <td>18.063776</td>\n",
       "      <td>18.297541</td>\n",
       "      <td>14.720734</td>\n",
       "      <td>20.559669</td>\n",
       "      <td>9.984989</td>\n",
       "      <td>16.941074</td>\n",
       "      <td>8.526429</td>\n",
       "      <td>19.677398</td>\n",
       "      <td>14.532722</td>\n",
       "      <td>10.917875</td>\n",
       "      <td>11.519549</td>\n",
       "      <td>14.240786</td>\n",
       "    </tr>\n",
       "    <tr>\n",
       "      <th>min</th>\n",
       "      <td>106.000000</td>\n",
       "      <td>104.000000</td>\n",
       "      <td>95.000000</td>\n",
       "      <td>90.000000</td>\n",
       "      <td>113.000000</td>\n",
       "      <td>105.000000</td>\n",
       "      <td>98.000000</td>\n",
       "      <td>94.000000</td>\n",
       "      <td>124.000000</td>\n",
       "      <td>122.000000</td>\n",
       "      <td>110.000000</td>\n",
       "      <td>101.000000</td>\n",
       "    </tr>\n",
       "    <tr>\n",
       "      <th>25%</th>\n",
       "      <td>114.000000</td>\n",
       "      <td>121.000000</td>\n",
       "      <td>123.000000</td>\n",
       "      <td>104.000000</td>\n",
       "      <td>120.000000</td>\n",
       "      <td>117.000000</td>\n",
       "      <td>109.000000</td>\n",
       "      <td>110.000000</td>\n",
       "      <td>128.000000</td>\n",
       "      <td>138.000000</td>\n",
       "      <td>112.000000</td>\n",
       "      <td>109.000000</td>\n",
       "    </tr>\n",
       "    <tr>\n",
       "      <th>50%</th>\n",
       "      <td>117.000000</td>\n",
       "      <td>130.000000</td>\n",
       "      <td>126.000000</td>\n",
       "      <td>104.000000</td>\n",
       "      <td>124.000000</td>\n",
       "      <td>125.000000</td>\n",
       "      <td>110.000000</td>\n",
       "      <td>128.000000</td>\n",
       "      <td>134.000000</td>\n",
       "      <td>146.000000</td>\n",
       "      <td>126.000000</td>\n",
       "      <td>115.000000</td>\n",
       "    </tr>\n",
       "    <tr>\n",
       "      <th>75%</th>\n",
       "      <td>122.000000</td>\n",
       "      <td>134.000000</td>\n",
       "      <td>130.000000</td>\n",
       "      <td>123.000000</td>\n",
       "      <td>127.000000</td>\n",
       "      <td>133.000000</td>\n",
       "      <td>117.000000</td>\n",
       "      <td>134.000000</td>\n",
       "      <td>145.000000</td>\n",
       "      <td>147.000000</td>\n",
       "      <td>129.000000</td>\n",
       "      <td>119.000000</td>\n",
       "    </tr>\n",
       "    <tr>\n",
       "      <th>max</th>\n",
       "      <td>153.000000</td>\n",
       "      <td>154.000000</td>\n",
       "      <td>130.000000</td>\n",
       "      <td>143.000000</td>\n",
       "      <td>140.000000</td>\n",
       "      <td>150.000000</td>\n",
       "      <td>120.000000</td>\n",
       "      <td>143.000000</td>\n",
       "      <td>160.000000</td>\n",
       "      <td>148.000000</td>\n",
       "      <td>137.000000</td>\n",
       "      <td>139.000000</td>\n",
       "    </tr>\n",
       "  </tbody>\n",
       "</table>\n",
       "</div>"
      ],
      "text/plain": [
       "               0           1           2           3           4           5   \\\n",
       "count    5.000000    5.000000    5.000000    5.000000    5.000000    5.000000   \n",
       "mean   122.400000  128.600000  120.800000  112.800000  124.800000  126.000000   \n",
       "std     18.063776   18.297541   14.720734   20.559669    9.984989   16.941074   \n",
       "min    106.000000  104.000000   95.000000   90.000000  113.000000  105.000000   \n",
       "25%    114.000000  121.000000  123.000000  104.000000  120.000000  117.000000   \n",
       "50%    117.000000  130.000000  126.000000  104.000000  124.000000  125.000000   \n",
       "75%    122.000000  134.000000  130.000000  123.000000  127.000000  133.000000   \n",
       "max    153.000000  154.000000  130.000000  143.000000  140.000000  150.000000   \n",
       "\n",
       "               6           7           8           9           10          11  \n",
       "count    5.000000    5.000000    5.000000    5.000000    5.000000    5.000000  \n",
       "mean   110.800000  121.800000  138.200000  140.200000  122.800000  116.600000  \n",
       "std      8.526429   19.677398   14.532722   10.917875   11.519549   14.240786  \n",
       "min     98.000000   94.000000  124.000000  122.000000  110.000000  101.000000  \n",
       "25%    109.000000  110.000000  128.000000  138.000000  112.000000  109.000000  \n",
       "50%    110.000000  128.000000  134.000000  146.000000  126.000000  115.000000  \n",
       "75%    117.000000  134.000000  145.000000  147.000000  129.000000  119.000000  \n",
       "max    120.000000  143.000000  160.000000  148.000000  137.000000  139.000000  "
      ]
     },
     "execution_count": 7,
     "metadata": {},
     "output_type": "execute_result"
    }
   ],
   "source": [
    "df.describe()"
   ]
  },
  {
   "cell_type": "code",
   "execution_count": 8,
   "id": "61f5f9f2-1734-46c1-bc29-98932580d65d",
   "metadata": {
    "tags": []
   },
   "outputs": [
    {
     "data": {
      "text/plain": [
       "0     122.4\n",
       "1     128.6\n",
       "2     120.8\n",
       "3     112.8\n",
       "4     124.8\n",
       "5     126.0\n",
       "6     110.8\n",
       "7     121.8\n",
       "8     138.2\n",
       "9     140.2\n",
       "10    122.8\n",
       "11    116.6\n",
       "dtype: float64"
      ]
     },
     "execution_count": 8,
     "metadata": {},
     "output_type": "execute_result"
    }
   ],
   "source": [
    "df.mean()"
   ]
  },
  {
   "cell_type": "code",
   "execution_count": 9,
   "id": "ea7f6605-9559-4984-a4f5-f7f5f371882f",
   "metadata": {
    "tags": []
   },
   "outputs": [
    {
     "name": "stdout",
     "output_type": "stream",
     "text": [
      "0     326.3\n",
      "1     334.8\n",
      "2     216.7\n",
      "3     422.7\n",
      "4      99.7\n",
      "5     287.0\n",
      "6      72.7\n",
      "7     387.2\n",
      "8     211.2\n",
      "9     119.2\n",
      "10    132.7\n",
      "11    202.8\n",
      "dtype: float64\n"
     ]
    }
   ],
   "source": [
    "variance = df.var()\n",
    "print(variance)"
   ]
  },
  {
   "cell_type": "code",
   "execution_count": 10,
   "id": "a5b862a5-afe9-4729-a83f-aee5b2d58331",
   "metadata": {
    "tags": []
   },
   "outputs": [
    {
     "name": "stdout",
     "output_type": "stream",
     "text": [
      "         0      1      2      3      4      5      6      7      8      9   \\\n",
      "0.25  114.0  121.0  123.0  104.0  120.0  117.0  109.0  110.0  128.0  138.0   \n",
      "0.50  117.0  130.0  126.0  104.0  124.0  125.0  110.0  128.0  134.0  146.0   \n",
      "0.75  122.0  134.0  130.0  123.0  127.0  133.0  117.0  134.0  145.0  147.0   \n",
      "\n",
      "         10     11  \n",
      "0.25  112.0  109.0  \n",
      "0.50  126.0  115.0  \n",
      "0.75  129.0  119.0  \n"
     ]
    }
   ],
   "source": [
    "print(df.quantile([0.25, 0.5, 0.75]))"
   ]
  },
  {
   "cell_type": "code",
   "execution_count": 27,
   "id": "e57f2e33-aef5-4acc-b9d0-3da529e22427",
   "metadata": {
    "tags": []
   },
   "outputs": [
    {
     "name": "stdout",
     "output_type": "stream",
     "text": [
      "134.0\n",
      "111.5\n"
     ]
    }
   ],
   "source": [
    "Q2 =np.percentile(df,25)\n",
    "Q2 =np.percentile(df,50)\n",
    "Q3 =np.percentile(df,75)\n",
    "print(Q3)\n",
    "print(Q1)"
   ]
  },
  {
   "cell_type": "code",
   "execution_count": 28,
   "id": "55daed47-180f-4bb8-9252-c4eecb37f9f5",
   "metadata": {
    "tags": []
   },
   "outputs": [
    {
     "name": "stdout",
     "output_type": "stream",
     "text": [
      "22.5\n"
     ]
    }
   ],
   "source": [
    "inter = Q3-Q1\n",
    "print(inter)"
   ]
  },
  {
   "cell_type": "code",
   "execution_count": null,
   "id": "3bc4c4b8-ac13-4d94-a31a-ce42defc7466",
   "metadata": {},
   "outputs": [],
   "source": []
  }
 ],
 "metadata": {
  "kernelspec": {
   "display_name": "Python 3 (ipykernel)",
   "language": "python",
   "name": "python3"
  },
  "language_info": {
   "codemirror_mode": {
    "name": "ipython",
    "version": 3
   },
   "file_extension": ".py",
   "mimetype": "text/x-python",
   "name": "python",
   "nbconvert_exporter": "python",
   "pygments_lexer": "ipython3",
   "version": "3.11.5"
  }
 },
 "nbformat": 4,
 "nbformat_minor": 5
}
