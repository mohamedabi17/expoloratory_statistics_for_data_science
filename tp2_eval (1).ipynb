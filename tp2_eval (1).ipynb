{
 "cells": [
  {
   "cell_type": "code",
   "execution_count": 55,
   "id": "f8977d54",
   "metadata": {},
   "outputs": [],
   "source": [
    "import numpy as np\n",
    "\n",
    "\n",
    "X = np.array([1, 2, 3, 4, 5])\n",
    "Y = np.array([65, 70, 75, 80, 85])\n"
   ]
  },
  {
   "cell_type": "code",
   "execution_count": 56,
   "id": "a2ac8eb8",
   "metadata": {},
   "outputs": [],
   "source": [
    "\n",
    "\n",
    "n = len(X)\n",
    "X_mean = np.mean(X)\n",
    "Y_mean = np.mean(Y)\n",
    "X_moyen = np.mean(X)\n",
    "Y_moyen = np.mean(Y)"
   ]
  },
  {
   "cell_type": "code",
   "execution_count": 57,
   "id": "88825360",
   "metadata": {},
   "outputs": [],
   "source": [
    "\n",
    "numérateur  = np.sum((X - X_mean) * (Y - Y_mean))\n",
    "dénominateur  = np.sum((X - X_mean) ** 2)\n",
    "\n"
   ]
  },
  {
   "cell_type": "code",
   "execution_count": 50,
   "id": "68672b1a",
   "metadata": {},
   "outputs": [
    {
     "name": "stdout",
     "output_type": "stream",
     "text": [
      "Paramètres du modèle linéaire : b = 5.0, a = 60.0\n"
     ]
    }
   ],
   "source": [
    "b = numérateur / dénominateur\n",
    "a = Y_moyen - b * X_moyen\n",
    "print(f\"Paramètres du modèle linéaire : b = {b}, a = {a}\")"
   ]
  },
  {
   "cell_type": "code",
   "execution_count": 51,
   "id": "cbf1ad28",
   "metadata": {},
   "outputs": [
    {
     "name": "stdout",
     "output_type": "stream",
     "text": [
      "Résidus : [0. 0. 0. 0. 0.]\n"
     ]
    }
   ],
   "source": [
    "\n",
    "Y_prédit = b * X + a\n",
    "résidus = Y - Y_prédit\n",
    "\n",
    "print(f\"Résidus : {résidus}\")\n"
   ]
  },
  {
   "cell_type": "code",
   "execution_count": 52,
   "id": "c6e9965d",
   "metadata": {},
   "outputs": [
    {
     "name": "stdout",
     "output_type": "stream",
     "text": [
      "Somme des carrés des résidus (SCR) : 0.0\n"
     ]
    }
   ],
   "source": [
    "SCR = np.sum(résidus ** 2)\n",
    "print(f\"Somme des carrés des résidus (SCR) : {SCR}\")\n"
   ]
  },
  {
   "cell_type": "code",
   "execution_count": 53,
   "id": "8c160d72",
   "metadata": {},
   "outputs": [
    {
     "name": "stdout",
     "output_type": "stream",
     "text": [
      "Estimation de sigma2 : 0.0\n"
     ]
    }
   ],
   "source": [
    "sigma_au_carré = SCR / (n - 2)\n",
    "print(f\"Estimation de sigma2 : {sigma_au_carré}\")\n"
   ]
  },
  {
   "cell_type": "code",
   "execution_count": 54,
   "id": "fe775dd8",
   "metadata": {},
   "outputs": [
    {
     "name": "stdout",
     "output_type": "stream",
     "text": [
      "Erreur type : 0.0\n"
     ]
    }
   ],
   "source": [
    "\n",
    "erreur_type = np.sqrt(sigma_au_carré)\n",
    "print(f\"Erreur type : {erreur_type}\")"
   ]
  },
  {
   "cell_type": "code",
   "execution_count": null,
   "id": "01cfb881",
   "metadata": {},
   "outputs": [],
   "source": [
    "\n"
   ]
  },
  {
   "cell_type": "code",
   "execution_count": null,
   "id": "11924489",
   "metadata": {},
   "outputs": [],
   "source": []
  },
  {
   "cell_type": "code",
   "execution_count": null,
   "id": "438362fb",
   "metadata": {},
   "outputs": [],
   "source": []
  }
 ],
 "metadata": {
  "kernelspec": {
   "display_name": "Python 3 (ipykernel)",
   "language": "python",
   "name": "python3"
  },
  "language_info": {
   "codemirror_mode": {
    "name": "ipython",
    "version": 3
   },
   "file_extension": ".py",
   "mimetype": "text/x-python",
   "name": "python",
   "nbconvert_exporter": "python",
   "pygments_lexer": "ipython3",
   "version": "3.11.5"
  }
 },
 "nbformat": 4,
 "nbformat_minor": 5
}
